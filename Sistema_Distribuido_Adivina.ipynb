{
 "cells": [
  {
   "cell_type": "code",
   "execution_count": 10,
   "id": "64d06a31",
   "metadata": {},
   "outputs": [
    {
     "name": "stdout",
     "output_type": "stream",
     "text": [
      "Cristian Ramirez\n",
      "No se nada dime en que piensas tigre\n",
      "Que lo caracteriza: felino\n",
      "['tigre', 'felino']\n",
      "¿Jugamos de nuevo? SI = 0 NO = 1:  0\n",
      "¿estas pensando en ? tigre\n",
      "SI = 0 NO = 1:  0\n",
      "¿estas pensando en ? felino\n",
      "SI = 0 NO = 1:  0\n",
      "te gane ajaajajajajaj :)  \n"
     ]
    }
   ],
   "source": [
    "print('Cristian Ramirez')\n",
    "def sistema_experto():\n",
    "  usuario = []\n",
    "  a = input(\"No se nada dime en que piensas \")\n",
    "  usuario.append(a)\n",
    "  b = input('Que lo caracteriza: ')\n",
    "  usuario.append(b)\n",
    "  print(usuario)\n",
    "  Start = int(input(\"¿Jugamos de nuevo? SI = 0 NO = 1:  \"))\n",
    "  \n",
    "  \n",
    "  \n",
    "  while(Start == 0):\n",
    "    print(\"¿estas pensando en ?\",usuario[0])\n",
    "    Pregunta_1 = int(input( \"SI = 0 NO = 1:  \"))\n",
    "    while(Pregunta_1 == 0):\n",
    "        print(\"¿estas pensando en ?\",usuario[1])\n",
    "        Pregunta_2 = int(input( \"SI = 0 NO = 1:  \"))\n",
    "        break\n",
    "    print('te gane ajaajajajajaj :)  ')\n",
    "    break\n",
    "\n",
    "        \n",
    "sistema_experto()\n",
    "\n"
   ]
  },
  {
   "cell_type": "code",
   "execution_count": null,
   "id": "cdd63a8b",
   "metadata": {},
   "outputs": [],
   "source": [
    "lenguajes = [\"Python\", \"C\", \"C++\", \"Elixir\"]\n",
    "lenguajes.index(\"C++\")\n",
    "print(lenguajes[0])"
   ]
  },
  {
   "cell_type": "code",
   "execution_count": null,
   "id": "4ddc2a81",
   "metadata": {},
   "outputs": [],
   "source": [
    "sistema_experto()"
   ]
  },
  {
   "cell_type": "code",
   "execution_count": null,
   "id": "eaae9304",
   "metadata": {},
   "outputs": [],
   "source": []
  }
 ],
 "metadata": {
  "kernelspec": {
   "display_name": "Python 3",
   "language": "python",
   "name": "python3"
  },
  "language_info": {
   "codemirror_mode": {
    "name": "ipython",
    "version": 3
   },
   "file_extension": ".py",
   "mimetype": "text/x-python",
   "name": "python",
   "nbconvert_exporter": "python",
   "pygments_lexer": "ipython3",
   "version": "3.7.3"
  }
 },
 "nbformat": 4,
 "nbformat_minor": 5
}
